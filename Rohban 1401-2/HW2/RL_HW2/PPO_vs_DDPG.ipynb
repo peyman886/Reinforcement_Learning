{
 "cells": [
  {
   "cell_type": "markdown",
   "metadata": {
    "id": "0eloi8xzEKxK"
   },
   "source": [
    "# Configuration & Tools"
   ]
  },
  {
   "cell_type": "code",
   "execution_count": null,
   "metadata": {
    "id": "1wxOlYMmEKxQ"
   },
   "outputs": [],
   "source": [
    "import sys\n",
    "IN_COLAB = \"google.colab\" in sys.modules\n",
    "\n",
    "if IN_COLAB:\n",
    "    !apt install python-opengl\n",
    "    !apt install ffmpeg\n",
    "    !apt install xvfb\n",
    "    !pip install pyvirtualdisplay\n",
    "    from pyvirtualdisplay import Display\n",
    "    \n",
    "    # Start virtual display\n",
    "    dis = Display(visible=0, size=(600, 400))\n",
    "    dis.start()"
   ]
  },
  {
   "cell_type": "markdown",
   "metadata": {
    "id": "Gkq77hRTNnOq"
   },
   "source": [
    "## Import modules"
   ]
  },
  {
   "cell_type": "code",
   "execution_count": null,
   "metadata": {
    "id": "bZySGWaENnOw"
   },
   "outputs": [],
   "source": [
    "import random\n",
    "from collections import deque\n",
    "from typing import Deque, Dict, List, Tuple\n",
    "\n",
    "import gym\n",
    "import matplotlib.pyplot as plt\n",
    "import numpy as np\n",
    "import torch\n",
    "import torch.nn as nn\n",
    "import torch.nn.functional as F\n",
    "import torch.optim as optim\n",
    "from IPython.display import clear_output\n",
    "from torch.distributions import Normal"
   ]
  },
  {
   "cell_type": "markdown",
   "metadata": {
    "id": "v0guayZuNnOx"
   },
   "source": [
    "## Set random seed"
   ]
  },
  {
   "cell_type": "code",
   "execution_count": null,
   "metadata": {
    "id": "V-jU9MarNnOx"
   },
   "outputs": [],
   "source": [
    "if torch.backends.cudnn.enabled:\n",
    "    torch.backends.cudnn.benchmark = False\n",
    "    torch.backends.cudnn.deterministic = True\n",
    "\n",
    "seed = 777\n",
    "torch.manual_seed(seed)\n",
    "np.random.seed(seed)\n",
    "random.seed(seed)"
   ]
  },
  {
   "cell_type": "markdown",
   "metadata": {
    "id": "KTevK5iRNnOx"
   },
   "source": [
    "## Replay buffer\n",
    "Typically, people implement replay buffers with one of the following three data structures:\n",
    "\n",
    "- collections.deque\n",
    "- list\n",
    "- numpy.ndarray\n",
    "\n",
    "**deque** is very easy to handle once you initialize its maximum length (e.g. deque(maxlen=buffer_size)). However, the indexing operation of deque gets terribly slow as it grows up because it is [internally doubly linked list](https://wiki.python.org/moin/TimeComplexity#collections.deque). On the other hands, **list** is an array, so it is relatively faster than deque when you sample batches at every step. Its amortized cost of Get item is [O(1)](https://wiki.python.org/moin/TimeComplexity#list).\n",
    "\n",
    "Last but not least, let's see **numpy.ndarray**. numpy.ndarray is even faster than list due to the fact that it is [a homogeneous array of fixed-size items](https://docs.scipy.org/doc/numpy/reference/generated/numpy.ndarray.html#numpy.ndarray), so you can get the benefits of [locality of reference](https://en.wikipedia.org/wiki/Locality_of_reference), . Whereas list is an array of pointers to objects, even when all of them are of the same type.\n",
    "\n",
    "Here, we are going to implement a replay buffer using numpy.ndarray.\n",
    "\n",
    "Reference: \n",
    "- [OpenAI spinning-up](https://github.com/openai/spinningup/blob/master/spinup/algos/sac/sac.py#L10)\n",
    "- [rainbow-is-all-you-need](https://render.githubusercontent.com/view/ipynb?commit=032d11277cf2436853478a69ca5a4aba03202598&enc_url=68747470733a2f2f7261772e67697468756275736572636f6e74656e742e636f6d2f437572742d5061726b2f7261696e626f772d69732d616c6c2d796f752d6e6565642f303332643131323737636632343336383533343738613639636135613461626130333230323539382f30312e64716e2e6970796e62&nwo=Curt-Park%2Frainbow-is-all-you-need&path=01.dqn.ipynb&repository_id=191133946&repository_type=Repository#Replay-buffer)"
   ]
  },
  {
   "cell_type": "code",
   "execution_count": null,
   "metadata": {
    "id": "NTSyz91HNnOy"
   },
   "outputs": [],
   "source": [
    "class ReplayBuffer:\n",
    "    \"\"\"A simple numpy replay buffer.\"\"\"\n",
    "\n",
    "    def __init__(self, obs_dim: int, size: int, batch_size: int = 32):\n",
    "        \"\"\"Initialize.\"\"\"\n",
    "        # ==================================== Your Code (Begin) ====================================\n",
    "        self.buffer_size = size\n",
    "        self.batch_size = batch_size\n",
    "        \n",
    "        self.buffer_obs = np.zeros([size, obs_dim], dtype=np.float32)\n",
    "        self.buffer_next_obs = np.zeros([size, obs_dim], dtype=np.float32)\n",
    "        self.buffer_act = np.zeros([size], dtype=np.float32)\n",
    "        self.buffer_reward = np.zeros([size], dtype=np.float32)\n",
    "        self.buffer_done = np.zeros([size], dtype=np.float32)\n",
    "\n",
    "        self.num_exp = 0\n",
    "        # ==================================== Your Code (End) ====================================\n",
    "\n",
    "\n",
    "    def store(self,\n",
    "        obs: np.ndarray,\n",
    "        act: np.ndarray, \n",
    "        rew: float, \n",
    "        next_obs: np.ndarray, \n",
    "        done: bool,\n",
    "    ):\n",
    "        \"\"\"Store the transition in buffer.\"\"\"\n",
    "        # ==================================== Your Code (Begin) ====================================\n",
    "        index = self.num_exp % self.buffer_size\n",
    "        \n",
    "        self.buffer_obs[index] = obs\n",
    "        self.buffer_next_obs[index] = next_obs\n",
    "        self.buffer_act[index] = act\n",
    "        self.buffer_reward[index] = rew\n",
    "        self.buffer_done[index] = done\n",
    "        \n",
    "        self.num_exp += 1\n",
    "        # ==================================== Your Code (End) ====================================\n",
    "\n",
    "\n",
    "    def sample_batch(self) -> Dict[str, np.ndarray]:\n",
    "        \"\"\"Randomly sample a batch of experiences from memory.\"\"\"\n",
    "        # ==================================== Your Code (Begin) ====================================\n",
    "        if self.num_exp < self.buffer_size:\n",
    "            idxs = np.random.choice(self.buffer_size, size=self.num_exp, replace=False)\n",
    "        else:\n",
    "            idxs = np.random.choice(self.buffer_size, size=self.batch_size, replace=False)\n",
    "            \n",
    "        return dict(obs = self.buffer_obs[idxs],\n",
    "                    actions = self.buffer_act[idxs],\n",
    "                    next_obs = self.buffer_next_obs[idxs],\n",
    "                    rewards=self.buffer_reward[idxs],\n",
    "                    done=self.buffer_done[idxs])\n",
    "        # ==================================== Your Code (End) ====================================\n",
    "\n",
    "\n",
    "    def __len__(self) -> int:\n",
    "        # ==================================== Your Code (Begin) ====================================\n",
    "        return self.buffer_size\n",
    "        # ==================================== Your Code (End) ====================================\n"
   ]
  },
  {
   "cell_type": "markdown",
   "metadata": {
    "id": "qQ-eZmnsNnOy"
   },
   "source": [
    "## OU Noise\n",
    "**Ornstein-Uhlenbeck** process generates temporally correlated exploration, and it effectively copes with physical control problems of inertia.\n",
    "\n",
    "$$\n",
    "dx_t = \\theta(\\mu - x_t) dt + \\sigma dW_t\n",
    "$$\n",
    "\n",
    "Reference: \n",
    "- [Udacity github](https://github.com/udacity/deep-reinforcement-learning/blob/master/ddpg-pendulum/ddpg_agent.py)\n",
    "- [Wiki](https://en.wikipedia.org/wiki/Ornstein%E2%80%93Uhlenbeck_process)"
   ]
  },
  {
   "cell_type": "code",
   "execution_count": null,
   "metadata": {
    "id": "VgdO5XcUNnOy"
   },
   "outputs": [],
   "source": [
    "class OUNoise:\n",
    "    \"\"\"Ornstein-Uhlenbeck process.\n",
    "    Taken from Udacity deep-reinforcement-learning github repository:\n",
    "    https://github.com/udacity/deep-reinforcement-learning/blob/master/\n",
    "    ddpg-pendulum/ddpg_agent.py\n",
    "    \"\"\"\n",
    "\n",
    "    def __init__(\n",
    "        self, \n",
    "        size: int, \n",
    "        mu: float = 0.0, \n",
    "        theta: float = 0.15, \n",
    "        sigma: float = 0.2,\n",
    "    ):\n",
    "        \"\"\"Initialize parameters and noise process.\"\"\"\n",
    "        self.state = np.float64(0.0)\n",
    "        self.mu = mu * np.ones(size)\n",
    "        self.theta = theta\n",
    "        self.sigma = sigma\n",
    "        self.reset()\n",
    "\n",
    "    def reset(self):\n",
    "        \"\"\"Reset the internal state (= noise) to mean (mu).\"\"\"\n",
    "        self.state = copy.copy(self.mu)\n",
    "\n",
    "    def sample(self) -> np.ndarray:\n",
    "        \"\"\"Update internal state and return it as a noise sample.\"\"\"\n",
    "        x = self.state\n",
    "        dx = self.theta * (self.mu - x) + self.sigma * np.array(\n",
    "            [random.random() for _ in range(len(x))]\n",
    "        )\n",
    "        self.state = x + dx\n",
    "        return self.state"
   ]
  },
  {
   "cell_type": "markdown",
   "metadata": {
    "id": "iTZ15C_3EKxT"
   },
   "source": [
    "# PPO\n",
    "\n",
    "- PPO: [J. Schulman et al., \"Proximal Policy Optimization Algorithms.\" arXiv preprint arXiv:1707.06347, 2017.](https://arxiv.org/abs/1707.06347.pdf)\n",
    "- TRPO: [Schulman, John, et al. \"Trust region policy optimization.\" International conference on machine learning. 2015.](http://proceedings.mlr.press/v37/schulman15.pdf)\n",
    "\n",
    "There are two kinds of algorithms of PPO: PPO-Penalty and PPO-Clip. Here, we'll implement PPO-clip version.\n",
    "\n",
    "TRPO computes the gradients with a complex second-order method. On the other hand, PPO tries to solve the problem with a first-order methods that keep new policies close to old. To simplify the surrogate objective, let $r(\\theta)$ denote the probability ratio\n",
    "\n",
    "$$ L^{CPI}(\\theta) = \\hat {\\mathbb{E}}_t \\left [ {\\pi_\\theta(a_t|s_t) \\over \\pi_{\\theta_{old}}(a_t|s_t)} \\hat A_t\\right] = \\hat {\\mathbb{E}}_t \\left [ r_t(\\theta) \\hat A_t \\right ].$$\n",
    "\n",
    "The objective is penalized further away from $r_t(\\theta)$\n",
    "\n",
    "$$ L^{CLIP}(\\theta)=\\hat {\\mathbb{E}}_t \\left [ \\min(r_t(\\theta) \\hat A_t, \\text{clip}(r_t(\\theta), 1-\\epsilon, 1+\\epsilon)\\hat A_t) \\right ] $$\n",
    "\n",
    "If the advantage is positive, the objective will increase. As a result, the action becomes more likely. If advantage is negative, the objective will decrease. AS a result, the action becomes less likely."
   ]
  },
  {
   "cell_type": "markdown",
   "metadata": {
    "id": "hKyhiD5yFSyO"
   },
   "source": [
    "# DDPG \n",
    "\n",
    "[T. P. Lillicrap et al., \"Continuous control with deep reinforcement learning.\" arXiv preprint arXiv:1509.02971, 2015.](https://arxiv.org/pdf/1509.02971.pdf)\n",
    "\n",
    "Deep Q Network(DQN)([Mnih et al., 2013;2015](https://storage.googleapis.com/deepmind-media/dqn/DQNNaturePaper.pdf)) algorithm is combined advances in deep learning with reinforcement learning. However, while DQN solves problems with high-dimentional observation spaces, it can only handle discrete and low-dimentional action spaces because of using greedy policy. For learning in high-dimentional and continous action spaces, the authors combine the actor-critic approach with insights from the recent success of DQN. Deep DPG(DDPG) is based on the deterministic policy gradient(DPG) algorithm ([Silver et al., 2014](http://proceedings.mlr.press/v32/silver14.pdf)). \n",
    "\n",
    "### Deterministic policy gradient\n",
    "The DPG algorithm maintains a parameterized actor function $\\mu(s|\\theta^{\\mu})$ which specifies the current policy by deterministically mapping states to a specific action. The critic $Q(s, a)$ is learned using the Bellman equation as in Q-learning. The actor is updated by following the applying the chain rule to the expected return from the start distribution $J$ with respect to the actor parameters\n",
    "\n",
    "$$\n",
    "\\begin{align*}\n",
    "\\nabla_{\\theta^{\\mu}}J &\\approx E_{s_t\\sim\\rho^\\beta} [\\nabla_{\\theta^{\\mu}} Q(s,a|\\theta^Q)|_{s=s_t, a=\\mu(s_t|\\theta^\\mu)}] \\\\\n",
    "&= E_{s_t\\sim\\rho^\\beta} [\\nabla_{a} Q(s,a|\\theta^Q)|_{s=s_t, a=\\mu(s_t)} \\nabla_{\\theta^{\\mu}} \\mu(s|\\theta^\\mu)|_{s=s_t}]\n",
    "\\end{align*}\n",
    "$$\n",
    "\n",
    "### Soft update target network\n",
    "Since the network $(Q(s,a|\\theta^Q)$ being updated is also used in calculating the target value, the Q update is prone to divergence. To avoid this, the authors use **the target network** like DQN, but modified for actor-critic and using **soft target updates**. Target netwokrs is created by copying the actor and critic networks, $Q'(s,a|\\theta^{Q'})$ and $\\mu'(s|\\theta^{\\mu`})$ respectively, that are used for calculating the target values. The weights of these target networks are then updated by having them slowly track the learned networks:\n",
    "\n",
    "$$\n",
    "\\theta' \\leftarrow \\tau \\theta + (1 - \\tau)\\theta' \\ \\ \\ {with} \\ \\tau \\ll 1.\n",
    "$$\n",
    "\n",
    "It greatly improves the stability of learning.\n",
    "\n",
    "### Exploration for continuous action space\n",
    "An advantage of offpolicies algorithms such as DDPG is that we can treat the problem of exploration independently from the learning algorithm. The authors construct an exploration policy $\\mu'$ by adding noise sampled from a noise process $\\mathcal{N}$ to the actor policy\n",
    "\n",
    "$$\n",
    "\\mu'(s_t) = \\mu(s_t|\\theta^{\\mu}_t) + \\mathcal{N}\n",
    "$$\n",
    "\n",
    "$\\mathcal{N}$ can be chosen to suit the environment. The authors used **Ornstein-Uhlenbeck process** to generate temporally correlated exploration."
   ]
  },
  {
   "cell_type": "markdown",
   "metadata": {
    "id": "SkVtrKceEKxW"
   },
   "source": [
    "# Networks\n"
   ]
  },
  {
   "cell_type": "markdown",
   "metadata": {
    "id": "oeuLWo64L4Vi"
   },
   "source": [
    "## PPO Networks"
   ]
  },
  {
   "cell_type": "markdown",
   "metadata": {
    "id": "j91bMF9TPjPo"
   },
   "source": [
    "We will use two separated networks for actor and critic respectively. The actor network consists of two fully connected hidden layer with ReLU branched out two fully connected output layers for mean and standard deviation of Gaussian distribution. Pendulum-v0 has only one action which has a range from -2 to 2. In order to fit the range, the actor outputs the mean value with tanh. The result will be scaled in ActionNormalizer class. On the one hand, the critic network has three fully connected layers as two hidden layers (ReLU) and an output layer. One thing to note is that we initialize the last layers' weights and biases as uniformly distributed."
   ]
  },
  {
   "cell_type": "code",
   "execution_count": null,
   "metadata": {
    "id": "a17WionpEKxX"
   },
   "outputs": [],
   "source": [
    "def init_layer_uniform(layer: nn.Linear, init_w: float = 3e-3) -> nn.Linear:\n",
    "    \"\"\"Init uniform parameters on the single layer.\"\"\"\n",
    "    # ==================================== Your Code (Begin) ====================================\n",
    "    layer.weight.data.uniform_(-init_w, init_w)\n",
    "    layer.bias.data.uniform_(-init_w, init_w)\n",
    "    return layer\n",
    "    # ==================================== Your Code (End) ====================================\n",
    "\n",
    "\n",
    "class PPOActor(nn.Module):\n",
    "    def __init__(\n",
    "        self, \n",
    "        in_dim: int, \n",
    "        out_dim: int, \n",
    "        log_std_min: int = -20,\n",
    "        log_std_max: int = 0,\n",
    "    ):\n",
    "        \"\"\"Initialize.\"\"\"\n",
    "        super(PPOActor, self).__init__()\n",
    "\n",
    "        # ==================================== Your Code (Begin) ====================================\n",
    "        self.log_std_min = log_std_min\n",
    "        self.log_std_max = log_std_max\n",
    "        \n",
    "        self.hidden1 = nn.Sequential(nn.Linear(in_dim, 32),\n",
    "                                     nn.ReLU())\n",
    "        \n",
    "        self.hidden2 = nn.Sequential(nn.Linear(32, 64),\n",
    "                                     nn.ReLU())\n",
    "        \n",
    "        self.mu_layer = nn.Linear(64, out_dim)\n",
    "        self.mu_layer = init_layer_uniform(self.mu_layer)\n",
    "\n",
    "        self.log_std_layer = nn.Linear(64, out_dim)\n",
    "        self.log_std_layer = init_layer_uniform(self.log_std_layer)\n",
    "        # ==================================== Your Code (End) ====================================\n",
    "\n",
    "\n",
    "    def forward(self, state: torch.Tensor) -> torch.Tensor:\n",
    "        \"\"\"Forward method implementation.\"\"\"\n",
    "        \n",
    "        # ==================================== Your Code (Begin) ====================================\n",
    "        # return selected action and a normal distribution as output of this module\n",
    "        x = self.hidden1(state)\n",
    "        x = self.hidden2(x)\n",
    "        \n",
    "        mu = F.tanh(self.mu_layer(x))\n",
    "        log_std = torch.tanh(self.log_std_layer(x))\n",
    "        \n",
    "        # Change log_std from (-1, 1) to (log_std_min, log_std_max)\n",
    "        log_std = self.log_std_min + (self.log_std_max - self.log_std_min)/2 * (log_std + 1)\n",
    "        std = torch.exp(log_std)\n",
    "\n",
    "        distribution = Normal(mu, std)\n",
    "        action = distribution.sample()\n",
    "        \n",
    "        return action, distribution\n",
    "        # ==================================== Your Code (End) ====================================\n",
    "\n",
    "\n",
    "\n",
    "class PPOCritic(nn.Module):\n",
    "    def __init__(self, in_dim: int):\n",
    "        \"\"\"Initialize.\"\"\"\n",
    "        super(PPOCritic, self).__init__()\n",
    "        # ==================================== Your Code (Begin) ====================================\n",
    "        self.in_dim = in_dim\n",
    "        \n",
    "        self.hidden1 = nn.Sequential(nn.Linear(in_dim, 32),\n",
    "                                     nn.ReLU())\n",
    "        \n",
    "        self.hidden2 = nn.Sequential(nn.Linear(32, 64),\n",
    "                                     nn.ReLU())\n",
    "        \n",
    "        self.out = nn.Linear(64, 1)\n",
    "        self.out = init_layer_uniform(self.out)\n",
    "        # ==================================== Your Code (End) ====================================\n",
    "\n",
    "\n",
    "    def forward(self, state: torch.Tensor) -> torch.Tensor:\n",
    "        \"\"\"Forward method implementation.\"\"\"\n",
    "        # ==================================== Your Code (Begin) ====================================\n",
    "        x = self.hidden1(state)\n",
    "        x = self.hidden2(x)\n",
    "        V = self.out(x)\n",
    "        \n",
    "        return V\n",
    "        # ==================================== Your Code (End) ====================================\n"
   ]
  },
  {
   "cell_type": "markdown",
   "metadata": {
    "id": "hY8ylNydFSyU"
   },
   "source": [
    "## DDPG Networks\n",
    "We are going to use two separated networks for actor and critic. The actor network has three fully connected layers and three non-linearity functions, **ReLU** for hidden layers and **tanh** for the output layer. On the other hand, the critic network has three fully connected layers, but it used two activation functions for hidden layers **ReLU**. Plus, its input sizes of critic network are sum of state sizes and action sizes. One thing to note is that we initialize the final layer's weights and biases so that they are **uniformly distributed.**"
   ]
  },
  {
   "cell_type": "code",
   "execution_count": null,
   "metadata": {
    "id": "WyIgq8P0FSyV"
   },
   "outputs": [],
   "source": [
    "class DDPGActor(nn.Module):\n",
    "    def __init__(\n",
    "        self, \n",
    "        in_dim: int, \n",
    "        out_dim: int,\n",
    "        init_w: float = 3e-3,\n",
    "    ):\n",
    "        \"\"\"Initialize.\"\"\"\n",
    "        super(Actor, self).__init__()\n",
    "        \n",
    "        # ==================================== Your Code (Begin) ====================================\n",
    "        # 1. set the hidden layers\n",
    "        # 2. init hidden layers uniformly     \n",
    "        self.in_dim = in_dim\n",
    "        self.out_dim = out_dim\n",
    "        \n",
    "        self.hidden1 = nn.Sequential(nn.Linear(in_dim, 32),\n",
    "                                     nn.ReLU())\n",
    "        \n",
    "        self.hidden2 = nn.Sequential(nn.Linear(32, 64),\n",
    "                                     nn.ReLU())\n",
    "        \n",
    "        self.out = nn.Linear(64, 1)\n",
    "        self.out = init_layer_uniform(self.out)\n",
    "        # ==================================== Your Code (End) ====================================\n",
    "\n",
    "    def forward(self, state: torch.Tensor) -> torch.Tensor:\n",
    "        \"\"\"Forward method implementation.\"\"\"\n",
    "        # ==================================== Your Code (Begin) ====================================\n",
    "        # use a tanh function as a ativation function for output layer \n",
    "        x = self.hidden1(state)\n",
    "        x = self.hidden2(x)\n",
    "        action = F.tanh(self.out(x))\n",
    "        \n",
    "        return action\n",
    "        # ==================================== Your Code (End) ====================================\n",
    "    \n",
    "    \n",
    "class DDPGCritic(nn.Module):\n",
    "    def __init__(\n",
    "        self, \n",
    "        in_dim: int, \n",
    "        init_w: float = 3e-3,\n",
    "    ):\n",
    "        \"\"\"Initialize.\"\"\"\n",
    "        super(Critic, self).__init__()\n",
    "        \n",
    "        # ==================================== Your Code (Begin) ====================================\n",
    "        # 1. set the hidden layers\n",
    "        # 2. init hidden layers uniformly    \n",
    "        self.in_dim = in_dim\n",
    "        \n",
    "        self.hidden1 = nn.Sequential(nn.Linear(in_dim, 32),\n",
    "                                     nn.ReLU())\n",
    "        \n",
    "        self.hidden2 = nn.Sequential(nn.Linear(32, 64),\n",
    "                                     nn.ReLU())\n",
    "        \n",
    "        self.out = nn.Linear(64, 1)\n",
    "        self.out = init_layer_uniform(self.out)\n",
    "        # ==================================== Your Code (End) ====================================\n",
    "\n",
    "    def forward(\n",
    "        self, state: torch.Tensor, action: torch.Tensor\n",
    "    ) -> torch.Tensor:\n",
    "        \"\"\"Forward method implementation.\"\"\"\n",
    "        # ==================================== Your Code (Begin) ====================================\n",
    "        # notice that this value function is Q(s, a)\n",
    "        x = torch.cat((state, action), dim=-1)\n",
    "        x = self.hidden1(x)\n",
    "        x = self.hidden2(x)\n",
    "        Q = self.out(x)\n",
    "        \n",
    "        return Q\n",
    "        # ==================================== Your Code (End) ====================================\n"
   ]
  },
  {
   "cell_type": "markdown",
   "metadata": {
    "id": "Nt25nk9AN9CT"
   },
   "source": [
    "# Agents "
   ]
  },
  {
   "cell_type": "markdown",
   "metadata": {
    "id": "KiHRoaq4EKxY"
   },
   "source": [
    "## PPO Agent\n",
    "Here is a summary of PPOAgent class.\n",
    "\n",
    "| Method           | Note                                                 |\n",
    "|---               |---                                                   |\n",
    "|select_action     | select an action from the input state.               |\n",
    "|step              | take an action and return the response of the env.   |\n",
    "|update_model      | update the model by gradient descent.                |\n",
    "|train             | train the agent during num_frames.                   |\n",
    "|test              | test the agent (1 episode).                          |\n",
    "|_plot             | plot the training progresses.                        |\n"
   ]
  },
  {
   "cell_type": "markdown",
   "metadata": {
    "id": "XE8Is2T9EKxZ"
   },
   "source": [
    "PPO updates the model several times(`epoch`) using the stacked memory. By `ppo_iter` function, It yield the samples of stacked memory by interacting a environment."
   ]
  },
  {
   "cell_type": "code",
   "execution_count": null,
   "metadata": {
    "id": "hAurbe2YEKxa"
   },
   "outputs": [],
   "source": [
    "def ppo_iter(\n",
    "    epoch: int,\n",
    "    mini_batch_size: int,\n",
    "    states: torch.Tensor,\n",
    "    actions: torch.Tensor,\n",
    "    values: torch.Tensor,\n",
    "    log_probs: torch.Tensor,\n",
    "    returns: torch.Tensor,\n",
    "    advantages: torch.Tensor,\n",
    "):\n",
    "    \"\"\"Yield mini-batches.\"\"\"\n",
    "    # ==================================== Your Code (Begin) ====================================\n",
    "    batch_size = states.size(0)\n",
    "    for _ in range(epoch):\n",
    "        for _ in range(batch_size // mini_batch_size):\n",
    "            idxs = np.random.choice(batch_size, mini_batch_size, replace=False)\n",
    "            yield states[idxs, :], actions[idxs], values[idxs], log_probs[idxs],\n",
    "            returns[idxs], advantages[idxs]\n",
    "    # ==================================== Your Code (End) ====================================\n"
   ]
  },
  {
   "cell_type": "code",
   "execution_count": 3,
   "metadata": {},
   "outputs": [
    {
     "data": {
      "text/plain": [
       "(1, 3)"
      ]
     },
     "execution_count": 3,
     "metadata": {},
     "output_type": "execute_result"
    }
   ],
   "source": [
    "import numpy as np\n",
    "\n",
    "state = np.array([2, 2, 1])\n",
    "np.expand_dims(state, axis=0).shape"
   ]
  },
  {
   "cell_type": "code",
   "execution_count": 2,
   "metadata": {},
   "outputs": [
    {
     "data": {
      "text/plain": [
       "(3,)"
      ]
     },
     "execution_count": 2,
     "metadata": {},
     "output_type": "execute_result"
    }
   ],
   "source": [
    "state.shape"
   ]
  },
  {
   "cell_type": "code",
   "execution_count": null,
   "metadata": {
    "id": "bFja11svEKxa"
   },
   "outputs": [],
   "source": [
    "class PPOAgent:\n",
    "    \"\"\"PPO Agent.\n",
    "    Attributes:\n",
    "        env (gym.Env): Gym env for training\n",
    "        gamma (float): discount factor\n",
    "        tau (float): lambda of generalized advantage estimation (GAE)\n",
    "        batch_size (int): batch size for sampling\n",
    "        epsilon (float): amount of clipping surrogate objective\n",
    "        epoch (int): the number of update\n",
    "        rollout_len (int): the number of rollout\n",
    "        entropy_weight (float): rate of weighting entropy into the loss function\n",
    "        actor (nn.Module): target actor model to select actions\n",
    "        critic (nn.Module): critic model to predict state values\n",
    "        transition (list): temporory storage for the recent transition\n",
    "        device (torch.device): cpu / gpu\n",
    "        total_step (int): total step numbers\n",
    "        is_test (bool): flag to show the current mode (train / test)        \n",
    "    \"\"\"\n",
    "\n",
    "    def __init__(\n",
    "        self,\n",
    "        env: gym.Env,\n",
    "        memory_size: int,\n",
    "        batch_size: int,\n",
    "        gamma: float,\n",
    "        tau: float,\n",
    "        epsilon: float,\n",
    "        epoch: int,\n",
    "        rollout_len: int,\n",
    "        entropy_weight: float,\n",
    "    ):\n",
    "        \"\"\"Initialize.\"\"\"\n",
    "        # ==================================== Your Code (Begin) ====================================\n",
    "        # 1. set hyperparameters\n",
    "        self.env = env\n",
    "        self.batch_size = batch_size\n",
    "        self.gamma = gamma\n",
    "        self.tau = tau\n",
    "        self.epsilon = epsilon\n",
    "        self.epoch = epoch\n",
    "        self.rollou_len = rollou_len\n",
    "        self.entropy_weight = entropy_weight\n",
    "        \n",
    "        # 2. check device: cpu/GPU\n",
    "        self.device = torch.device('cuda' if torch.cuda.is_available() else 'cpu')\n",
    "        \n",
    "        # 3. init actor critic networks\n",
    "        self.obs_dim = self.env.observation_space.shape[0]\n",
    "        self.action_dim = self.env.action_space.shape[0]\n",
    "        self.actor = PPOActor(self.obs_dim, self.action_dim).to(self.device)\n",
    "        self.critic = PPOCritic(self.obs_dim).to(self.device)\n",
    "        \n",
    "        # 4. set Optimizer for each network\n",
    "        self.optim_actor = optim.Adam(self.actor.parameters(), lr=0.001)\n",
    "        self.optim_critic = optim.Adam(self.critic.parameters(), lr=0.001)\n",
    "        \n",
    "        # 5. consider memory for training\n",
    "        self.buffer = ReplayBuffer(obs_dim = self.obs_dim, size = memory_size, batch_size = self.batch_size)\n",
    "        \n",
    "        # 6. set total step counts equal to 1\n",
    "        self.total_step = 1\n",
    "        \n",
    "        # 7. define a mode for train/test\n",
    "        self.is_test = False\n",
    "        # ==================================== Your Code (End) ====================================\n",
    "\n",
    "    \n",
    "        \n",
    "\n",
    "    def select_action(self, state: np.ndarray) -> np.ndarray:\n",
    "        \"\"\"Select an action from the input state.\"\"\"\n",
    "        # ==================================== Your Code (Begin) ====================================\n",
    "        # 1. select action for train or test mode\n",
    "        state = torch.from_numpy(state).to(self.device)\n",
    "        act, dist = self.actor(state)\n",
    "        action = dist.mean if self.is_test else act\n",
    "        action = action.detach().cpu().numpy()\n",
    "        \n",
    "        next_obs, rew, done = self.step(action)\n",
    "    \n",
    "        # 2. if you are in train mode take care of filing considered memory\n",
    "        if not self.is_test:\n",
    "            self.buffer.store(state, action, rew, next_obs, done)\n",
    "        # ==================================== Your Code (End) ====================================\n",
    "\n",
    "\n",
    "    def step(self, action: np.ndarray) -> Tuple[np.ndarray, np.float64, bool]:\n",
    "        \"\"\"Take an action and return the response of the env.\"\"\"\n",
    "        # ==================================== Your Code (Begin) ====================================\n",
    "        next_obs, rew, done, _, _ = self.env.step(act)\n",
    "        return (next_obs, rew.astype(float64), done)\n",
    "        # ==================================== Your Code (End) ====================================\n",
    "\n",
    "\n",
    "    def update_model(\n",
    "        self, next_state:+ np.ndarray\n",
    "    ) -> Tuple[torch.Tensor, torch.Tensor, torch.Tensor]:\n",
    "        \"\"\"Update the model by gradient descent.\"\"\"\n",
    "        # ==================================== Your Code (Begin) ====================================\n",
    "        # 1. set device\n",
    "        device = self.device\n",
    "        \n",
    "        # 2. for each step:\n",
    "        # 3.    calculate ratios\n",
    "        # 4.    calculate actor_loss\n",
    "        # 5.    calculate entropy\n",
    "        # 6.    calculate critic_loss\n",
    "        # 7.    Train  critic\n",
    "        # 8.    Train actor\n",
    "        \n",
    "        # ==================================== Your Code (End) ====================================\n",
    "\n",
    "    \n",
    "\n",
    "    def train(self, num_frames: int, plotting_interval: int = 200):\n",
    "        \"\"\"Train the agent.\"\"\"\n",
    "        # ==================================== Your Code (Begin) ====================================\n",
    "        # 1. set the status of trainig\n",
    "        # 2. Reset environment\n",
    "        # 3. for number of frames:\n",
    "        # 4.    select an action\n",
    "        # 5.    step in environment\n",
    "        # 6.    update model\n",
    "        # 7. terminate environment after training is finished\n",
    "        # ==================================== Your Code (End) ====================================\n",
    "\n",
    "        \n",
    "\n",
    "    def test(self):\n",
    "        \"\"\"Test the agent.\"\"\"\n",
    "        # ==================================== Your Code (Begin) ====================================\n",
    "        # 1. set the status of trainig\n",
    "        # 2. Reset environment\n",
    "        # 3. roll out one episode living in the environment and save frames for getting render\n",
    "        # ==================================== Your Code (End) ====================================\n",
    "\n",
    "\n",
    "    def _plot(\n",
    "        self,\n",
    "        frame_idx: int,\n",
    "        scores: List[float],\n",
    "        actor_losses: List[float],\n",
    "        critic_losses: List[float],\n",
    "    ):\n",
    "        \"\"\"Plot the training progresses.\"\"\"\n",
    "        # ==================================== Your Code (Begin) ====================================\n",
    "        # 1. define a function for sub plots\n",
    "        # 2. for each variable plot the specific subplot\n",
    "        # 3. plot the whole figure\n",
    "        # ==================================== Your Code (End) ====================================\n"
   ]
  },
  {
   "cell_type": "markdown",
   "metadata": {
    "id": "iyrmZWSWFSyV"
   },
   "source": [
    "## DDPG Agent\n",
    "Here is a summary of DDPGAgent class.\n",
    "\n",
    "| Method           | Note                                                 |\n",
    "|---               |---                                                  |\n",
    "|select_action     | select an action from the input state.               |\n",
    "|step              | take an action and return the response of the env.   |\n",
    "|update_model      | update the model by gradient descent.                |\n",
    "|train             | train the agent during num_frames.                   |\n",
    "|test              | test the agent (1 episode).                          |\n",
    "|\\_target_soft_update| soft update from the local model to the target model.|\n",
    "|\\_plot              | plot the training progresses.                        |"
   ]
  },
  {
   "cell_type": "code",
   "execution_count": null,
   "metadata": {
    "id": "CuPhByk5FSyW"
   },
   "outputs": [],
   "source": [
    "class DDPGAgent:\n",
    "    \"\"\"DDPGAgent interacting with environment.\n",
    "    \n",
    "    Attribute:\n",
    "        env (gym.Env): openAI Gym environment\n",
    "        actor (nn.Module): target actor model to select actions\n",
    "        actor_target (nn.Module): actor model to predict next actions\n",
    "        actor_optimizer (Optimizer): optimizer for training actor\n",
    "        critic (nn.Module): critic model to predict state values\n",
    "        critic_target (nn.Module): target critic model to predict state values\n",
    "        critic_optimizer (Optimizer): optimizer for training critic\n",
    "        memory (ReplayBuffer): replay memory to store transitions\n",
    "        batch_size (int): batch size for sampling\n",
    "        gamma (float): discount factor\n",
    "        tau (float): parameter for soft target update\n",
    "        initial_random_steps (int): initial random action steps\n",
    "        noise (OUNoise): noise generator for exploration\n",
    "        device (torch.device): cpu / gpu\n",
    "        transition (list): temporory storage for the recent transition\n",
    "        total_step (int): total step numbers\n",
    "        is_test (bool): flag to show the current mode (train / test)\n",
    "    \"\"\"\n",
    "    def __init__(\n",
    "        self,\n",
    "        env: gym.Env,\n",
    "        memory_size: int,\n",
    "        batch_size: int,\n",
    "        ou_noise_theta: float,\n",
    "        ou_noise_sigma: float,\n",
    "        gamma: float = 0.99,\n",
    "        tau: float = 5e-3,\n",
    "        initial_random_steps: int = 1e4,\n",
    "    ):\n",
    "        \"\"\"Initialize.\"\"\"\n",
    "\n",
    "        # ==================================== Your Code (Begin) ====================================\n",
    "        # 1. initialize hyper parameters, reply buffer and environment\n",
    "        obs_dim = env.observation_space.shape[0]\n",
    "        act_dim = env.action_space.shape[0]\n",
    "\n",
    "        self.env = env\n",
    "        self.memory = ReplayBuffer(obs_dim, memory_size, batch_size)\n",
    "        self.batch_size = batch_size\n",
    "        self.gamma = gamma\n",
    "        self.tau = tau\n",
    "        self.initial_random_steps = initial_random_steps\n",
    "        \n",
    "        # 2. set device\n",
    "        self.device = torch.device('cuda' if torch.cuda.is_available() else 'cpu')\n",
    "        \n",
    "        # 3. set target entropy, log alpha and alpha optimizer\n",
    "        ###????????###\n",
    "        \n",
    "        \n",
    "        # 4. init actor network\n",
    "        self.actor = DDPGActor(obs_dim, action_dim).to(self.device)\n",
    "        self.actor_target = DDPGActor(obs_dim, action_dim).to(self.device)\n",
    "        self.actor_target.load_state_dict(self.actor.state_dict())\n",
    "\n",
    "        # 5. init value fuction (value critic)\n",
    "        self.critic = DDPGCritic(obs_dim + action_dim).to(self.device)\n",
    "        self.critic_target = DDPGCritic(obs_dim + action_dim).to(self.device)\n",
    "        self.critic_target.load_state_dict(self.critic.state_dict())\n",
    "        \n",
    "        # 6. init OUNoise \n",
    "        self.noise = OUNoise(action_dim, theta=ou_noise_theta, sigma=ou_noise_sigma)\n",
    "        \n",
    "        # 7. set Optimizers\n",
    "        self.actor_optim = optim.Adam(self.actor.parameters(), lr=3e-4)\n",
    "        self.critic_optim = optim.Adam(self.critic.parameters(), lr=1e-3)\n",
    "        \n",
    "        # consider stroring transitions in memeory, counting steps and specify train/test mode\n",
    "        self.transition = list()\n",
    "        self.total_step = 0\n",
    "        self.is_test = False\n",
    "        # ==================================== Your Code (End) ====================================\n",
    "    \n",
    "    \n",
    "    def select_action(self, state: np.ndarray) -> np.ndarray:\n",
    "        \"\"\"Select an action from the input state.\"\"\"\n",
    "        \n",
    "        # ==================================== Your Code (Begin) ====================================\n",
    "        # 1. check if initial random action should be conducted\n",
    "        if not self.is_test and self.total_step < self.initial_random_steps:\n",
    "            act = self.env.action_space.sample()\n",
    "        else:\n",
    "            act = self.actor(torch.from_numpy(state).to(self.device))\n",
    "            act = act.detach().cpu().numpy()\n",
    "        \n",
    "        # 2. add noise for exploration during training\n",
    "        if not self.is_test:\n",
    "            act = act + self.noise.sample()\n",
    "            act = np.clip(act, -1, 1)\n",
    "        \n",
    "        # 3. store transition\n",
    "        self.transition = [state, act]\n",
    "        \n",
    "        # return selected action\n",
    "        return act\n",
    "        # ==================================== Your Code (End) ====================================\n",
    "    \n",
    "    \n",
    "    def step(self, action: np.ndarray) -> Tuple[np.ndarray, np.float64, bool]:\n",
    "        \"\"\"Take an action and return the response of the env.\"\"\"\n",
    "        # ==================================== Your Code (Begin) ====================================\n",
    "        # step in environment and save transition in memory if you are not in test mode\n",
    "        next_obs, rew, done, _, _ = self.env.step(action)\n",
    "        \n",
    "        if not self.is_test:\n",
    "            self.transition += [rew, next_obs, done]\n",
    "            self.memory.store(*self.transition)\n",
    "    \n",
    "        return (next_obs, rew, done)\n",
    "        # ==================================== Your Code (End) ====================================\n",
    "    \n",
    "    \n",
    "    def update_model(self) -> torch.Tensor:\n",
    "        \"\"\"Update the model by gradient descent.\"\"\"\n",
    "        # ==================================== Your Code (Begin) ====================================\n",
    "        # 1. set device\n",
    "        #self.device\n",
    "        \n",
    "        # 2. get a batch from memory and calculate the return\n",
    "        batch = self.memory.sample_batch()\n",
    "        obs, actions, next_obs, rewards, done = batch.values()\n",
    "        obs = obs.to(self.device)\n",
    "        actions = obs.to(self.device)\n",
    "        next_obs = next_obs.to(self.device)\n",
    "        rewards = rewards.to(self.device)\n",
    "        done = done.to(self.device)\n",
    "        \n",
    "        # r+(1-d)*gamma*Q_target(s',a')\n",
    "        return_ = rewards + (1-done) * self.gamma *\n",
    "                            self.target_critic(next_obs, self.target_actor(next_obs))\n",
    "        \n",
    "        # 3. calculate the loss for actor and critic networks\n",
    "        \n",
    "        # Critic\n",
    "        target_y = return_\n",
    "        y = self.critic(obs, actions) #Q(s,a)\n",
    "        \n",
    "        loss_critic = F.mse_loss(y, target_y)\n",
    "        \n",
    "        self.critic_optim.zero_grad()\n",
    "        loss_critic.backward()\n",
    "        self.critic_optim.step()\n",
    "        \n",
    "        # Actor\n",
    "        loss_actor = -self.critic(obs, self.actor(obs)).mean()\n",
    "        self.actor_optim.zero_grad()\n",
    "        loss_actor.backward()\n",
    "        self.actor_optim.step()\n",
    "        \n",
    "        # 4. update target\n",
    "        self._target_soft_update()\n",
    "        \n",
    "        return loss_critic, loss_actor\n",
    "        # ==================================== Your Code (End) ====================================\n",
    "    \n",
    "    def train(self, num_frames: int, plotting_interval: int = 200):\n",
    "        \"\"\"Train the agent.\"\"\"\n",
    "        # ==================================== Your Code (Begin) ====================================\n",
    "        # 1. set the status of trainig\n",
    "        self.is_test = False\n",
    "        \n",
    "        # 2. Reset environment\n",
    "        state = self.env.reset()\n",
    "        actor_losses = []\n",
    "        critic_losses = []\n",
    "        scores = []\n",
    "        score = 0\n",
    "        \n",
    "        # 3. for number of frames:\n",
    "        for self.total_step in range(num_frames):\n",
    "            \n",
    "            # 4. select an action\n",
    "            act = self.select_action(state)\n",
    "            \n",
    "            # 5. step in environment\n",
    "            next_obs, rew, done = self.step(act)\n",
    "            score+=rew\n",
    "            \n",
    "            if done:\n",
    "                state = self.env.reset()\n",
    "                scores.append(score)\n",
    "                score = 0\n",
    "            else:\n",
    "                state = next_obs\n",
    "            \n",
    "            # 6. update model\n",
    "            if self.total_step > self.inital_random_steps:\n",
    "                actor_loss, critic_loss = self.update_model()\n",
    "                actor_losses.append(actor_loss)\n",
    "                critic_losses.append(critic_loss)\n",
    "            \n",
    "            # 7. plot the computed variables\n",
    "            if self.total_step % plotting_interval == 0:\n",
    "                self._plot(\n",
    "                    self.total_step, \n",
    "                    scores, \n",
    "                    actor_losses, \n",
    "                    critic_losses,\n",
    "                )\n",
    "                \n",
    "        # 8. terminate environment after training is finished\n",
    "        self.env.close()\n",
    "        # ==================================== Your Code (End) ====================================\n",
    "        \n",
    "        \n",
    "    def test(self):\n",
    "        \"\"\"Test the agent.\"\"\"\n",
    "        # ==================================== Your Code (Begin) ====================================\n",
    "        # 1. set the status of trainig\n",
    "        self.is_test = True\n",
    "        \n",
    "        # 2. Reset environment\n",
    "        state = self.env.reset()\n",
    "        done = False\n",
    "        frames = []\n",
    "        total_reward = 0\n",
    "        \n",
    "        # 3. roll out one episode living in the environment and save frames for getting render\n",
    "        while not done:\n",
    "            act = self.target_actor(torch.from_numpy(state).to(self.device)).detach().cpu().numpy()\n",
    "            act = np.clip(act, -1, 1)\n",
    "            frames.append(self.env.render(mode=\"rgb_array\"))\n",
    "            \n",
    "            next_state, reward, done = self.step(act)\n",
    "            total_reward += reward\n",
    "            \n",
    "        print(\"Total Reward: \", total_reward)\n",
    "        self.env.close()\n",
    "        \n",
    "        return frames\n",
    "        # ==================================== Your Code (End) ====================================\n",
    "    \n",
    "    \n",
    "    def _target_soft_update(self):\n",
    "        \"\"\"Soft-update: target = tau*local + (1-tau)*target.\"\"\"\n",
    "        # ==================================== Your Code (Begin) ====================================\n",
    "        self.target_critic.weights.data = self.tau*self.critic.weights.data + \n",
    "                                          (1-self.tau) * self.target_critic.weights.data \n",
    "        \n",
    "        self.target_actor.weights.data = self.tau*self.actor.weights.data + \n",
    "                                          (1-self.tau) * self.target_actor.weights.data\n",
    "        # ==================================== Your Code (End) ====================================\n",
    "    \n",
    "    \n",
    "    def _plot(\n",
    "        self, \n",
    "        frame_idx: int, \n",
    "        scores: List[float], \n",
    "        actor_losses: List[float], \n",
    "        critic_losses: List[float], \n",
    "    ):\n",
    "        \"\"\"Plot the training progresses.\"\"\"\n",
    "        # ==================================== Your Code (Begin) ====================================\n",
    "        def subplot(loc: int, title: str, values: List[float]):\n",
    "            plt.subplot(loc)\n",
    "            plt.title(title)\n",
    "            plt.plot(values)\n",
    "\n",
    "        subplot_params = [\n",
    "            (131, f\"frame {frame_idx}. score: {np.mean(scores[-10:])}\", scores),\n",
    "            (132, \"actor_loss\", actor_losses),\n",
    "            (133, \"critic_loss\", critic_losses),\n",
    "        ]\n",
    "        \n",
    "        clear_output(True)\n",
    "        plt.figure(figsize=(30, 5))\n",
    "        for loc, title, values in subplot_params:\n",
    "            subplot(loc, title, values)\n",
    "        plt.show()\n",
    "        # ==================================== Your Code (End) ===================================="
   ]
  },
  {
   "cell_type": "markdown",
   "metadata": {
    "id": "Ncwo8ekkEKxd"
   },
   "source": [
    "# Environment\n",
    "*ActionNormalizer* is an action wrapper class to normalize the action values ranged in (-1. 1). Thanks to this class, we can make the agent simply select action values within the zero centered range (-1, 1)."
   ]
  },
  {
   "cell_type": "code",
   "execution_count": null,
   "metadata": {
    "id": "2omZW-6CEKxd"
   },
   "outputs": [],
   "source": [
    "class ActionNormalizer(gym.ActionWrapper):\n",
    "    \"\"\"Rescale and relocate the actions.\"\"\"\n",
    "\n",
    "    def action(self, action: np.ndarray) -> np.ndarray:\n",
    "        \"\"\"Change the range (-1, 1) to (low, high).\"\"\"\n",
    "        # ==================================== Your Code (Begin) ====================================\n",
    "        return self.low + (self.action_space.high - self.action_space.low)/2 * (action + 1)\n",
    "        # ==================================== Your Code (End) ====================================\n",
    "\n",
    "        \n",
    "    def reverse_action(self, action: np.ndarray) -> np.ndarray:\n",
    "        \"\"\"Change the range (low, high) to (-1, 1).\"\"\"\n",
    "        # ==================================== Your Code (Begin) ====================================\n",
    "        return -1 + 2/(self.action_space.high - self.action_space.low) * (action + self.action_space.low)\n",
    "        # ==================================== Your Code (End) ====================================\n"
   ]
  },
  {
   "cell_type": "markdown",
   "metadata": {
    "id": "cA1LxC3VEKxe"
   },
   "source": [
    "You can see [the code](https://github.com/openai/gym/blob/master/gym/envs/classic_control/pendulum.py) and [configurations](https://github.com/openai/gym/blob/cedecb35e3428985fd4efad738befeb75b9077f1/gym/envs/__init__.py#L81) of Pendulum-v1 from OpenAI's repository."
   ]
  },
  {
   "cell_type": "code",
   "execution_count": null,
   "metadata": {
    "id": "cwRS69ZmEKxe"
   },
   "outputs": [],
   "source": [
    "# environment\n",
    "env_id = \"Pendulum-v1\"\n",
    "env = gym.make(env_id)\n",
    "env = ActionNormalizer(env)\n",
    "env.seed(seed)"
   ]
  },
  {
   "cell_type": "markdown",
   "metadata": {
    "id": "4YPRqbybOEL2"
   },
   "source": [
    "# Train & Test "
   ]
  },
  {
   "cell_type": "markdown",
   "metadata": {
    "id": "vZpoVD0YEKxf"
   },
   "source": [
    "## Initialize"
   ]
  },
  {
   "cell_type": "code",
   "execution_count": null,
   "metadata": {
    "id": "sn6_VF1_EKxf"
   },
   "outputs": [],
   "source": [
    "# parameters\n",
    "num_frames = 50000\n",
    "memory_size = 20000\n",
    "batch_size = 128\n",
    "ou_noise_theta = 1.0\n",
    "ou_noise_sigma = 0.1\n",
    "initial_random_steps = 10000\n",
    "\n",
    "ppo_agent = PPOAgent(\n",
    "    env,\n",
    "    gamma = 0.9,\n",
    "    tau = 0.8,\n",
    "    batch_size = 64,\n",
    "    epsilon = 0.2,\n",
    "    epoch = 64,\n",
    "    rollout_len = 2048,\n",
    "    entropy_weight = 0.005\n",
    ")\n",
    "\n",
    "ddpg_agent = DDPGAgent(\n",
    "    env, \n",
    "    memory_size, \n",
    "    batch_size,\n",
    "    ou_noise_theta,\n",
    "    ou_noise_sigma,\n",
    "    initial_random_steps=initial_random_steps\n",
    ")"
   ]
  },
  {
   "cell_type": "markdown",
   "metadata": {
    "id": "tNvkDrZcEKxf"
   },
   "source": [
    "## Train PPO"
   ]
  },
  {
   "cell_type": "code",
   "execution_count": null,
   "metadata": {
    "id": "penPfG3tEKxg"
   },
   "outputs": [],
   "source": [
    "ppo_agent.train(num_frames)"
   ]
  },
  {
   "cell_type": "markdown",
   "metadata": {
    "id": "ivDH4ooWM7VO"
   },
   "source": [
    "## Train DDPG"
   ]
  },
  {
   "cell_type": "code",
   "execution_count": null,
   "metadata": {
    "id": "CluntoxKM5kF"
   },
   "outputs": [],
   "source": [
    "ddpg_agent.train(num_frames)"
   ]
  },
  {
   "cell_type": "markdown",
   "metadata": {
    "id": "VjtQZlM2EKxg"
   },
   "source": [
    "## Test"
   ]
  },
  {
   "cell_type": "code",
   "execution_count": null,
   "metadata": {
    "id": "hXMKIAX8EKxg"
   },
   "outputs": [],
   "source": [
    "# test\n",
    "if IN_COLAB:\n",
    "    ppo_agent.env = gym.wrappers.Monitor(ppo_agent.env, \"videos\", force=True)\n",
    "    ddpg_agent.env = gym.wrappers.Monitor(ddpg_agent.env, \"videos\", force=True)\n",
    "ppo_frames = ppo_agent.test()\n",
    "ddpg_frames = ddpg_agent.test()"
   ]
  },
  {
   "cell_type": "markdown",
   "metadata": {
    "id": "oZ9cZ8BwEKxg"
   },
   "source": [
    "## Render"
   ]
  },
  {
   "cell_type": "code",
   "execution_count": null,
   "metadata": {
    "id": "gVAiT74AEKxh"
   },
   "outputs": [],
   "source": [
    "if IN_COLAB:  # for colab\n",
    "    import base64\n",
    "    import glob\n",
    "    import io\n",
    "    import os\n",
    "\n",
    "    from IPython.display import HTML, display\n",
    "\n",
    "    def ipython_show_video(path: str) -> None:\n",
    "        \"\"\"Show a video at `path` within IPython Notebook.\"\"\"\n",
    "        if not os.path.isfile(path):\n",
    "            raise NameError(\"Cannot access: {}\".format(path))\n",
    "\n",
    "        video = io.open(path, \"r+b\").read()\n",
    "        encoded = base64.b64encode(video)\n",
    "\n",
    "        display(HTML(\n",
    "            data=\"\"\"\n",
    "            <video alt=\"test\" controls>\n",
    "            <source src=\"data:video/mp4;base64,{0}\" type=\"video/mp4\"/>\n",
    "            </video>\n",
    "            \"\"\".format(encoded.decode(\"ascii\"))\n",
    "        ))\n",
    "\n",
    "    list_of_files = glob.glob(\"videos/*.mp4\")\n",
    "    latest_file = max(list_of_files, key=os.path.getctime)\n",
    "    print(latest_file)\n",
    "    ipython_show_video(latest_file)\n",
    "\n",
    "else:  # for jupyter\n",
    "    from matplotlib import animation\n",
    "    from JSAnimation.IPython_display import display_animation\n",
    "    from IPython.display import display\n",
    "\n",
    "\n",
    "    def display_frames_as_gif(frames):\n",
    "        \"\"\"Displays a list of frames as a gif, with controls.\"\"\"\n",
    "        patch = plt.imshow(frames[0])\n",
    "        plt.axis('off')\n",
    "\n",
    "        def animate(i):\n",
    "            patch.set_data(frames[i])\n",
    "\n",
    "        anim = animation.FuncAnimation(\n",
    "            plt.gcf(), animate, frames = len(frames), interval=50\n",
    "        )\n",
    "        display(display_animation(anim, default_mode='loop'))\n",
    "\n",
    "\n",
    "    # display \n",
    "    display_frames_as_gif(ppo_frames)\n",
    "    display_frames_as_gif(ddpg_frames)"
   ]
  },
  {
   "cell_type": "code",
   "execution_count": null,
   "metadata": {
    "id": "igSqoIbdEKxh"
   },
   "outputs": [],
   "source": []
  }
 ],
 "metadata": {
  "accelerator": "GPU",
  "colab": {
   "provenance": [],
   "toc_visible": true
  },
  "gpuClass": "standard",
  "kernelspec": {
   "display_name": "Python 3",
   "language": "python",
   "name": "python3"
  },
  "language_info": {
   "codemirror_mode": {
    "name": "ipython",
    "version": 3
   },
   "file_extension": ".py",
   "mimetype": "text/x-python",
   "name": "python",
   "nbconvert_exporter": "python",
   "pygments_lexer": "ipython3",
   "version": "3.8.8"
  }
 },
 "nbformat": 4,
 "nbformat_minor": 1
}
